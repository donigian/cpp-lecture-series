{
 "cells": [
  {
   "cell_type": "code",
   "execution_count": null,
   "metadata": {
    "collapsed": true
   },
   "outputs": [],
   "source": [
    "#include <iostream>\n",
    "#include <iomanip>\n",
    "\n",
    "using namespace std;\n",
    "\n",
    "void initialize_array(int arr[][13], int suits, int cards) {\n",
    "    for (int r = 0; r < suits; r++) {\n",
    "        for (int c = 0; c < cards; c++) {\n",
    "            arr[r][c] = 0;\n",
    "        }\n",
    "    }\n",
    "}\n",
    "\n",
    "void shuffle_deck(int deck[][13], int suits, int cards) {\n",
    "    int row=0, col=0;\n",
    "    for (int card = 1; card <= 52; card++) {\n",
    "        row = rand() % 4;\n",
    "        col = rand() % 13;\n",
    "\n",
    "        if (deck[row][col] == 0)\n",
    "            deck[row][col] = card;\n",
    "        else\n",
    "            while( deck[row][col] != 0){\n",
    "                row = rand() % 4;\n",
    "                col = rand() % 13;\n",
    "            }\n",
    "            deck[row][col] = card;\n",
    "    }\n",
    "}\n",
    "\n",
    "void print_deck(int arr[][13], int suits, int cards) {\n",
    "    cout << \"   \";\n",
    "    for (int c = 0; c < cards; c++) {\n",
    "        cout << c << setw(2) << \" \";\n",
    "    }\n",
    "    cout << endl;\n",
    "    for (int r = 0; r < suits; r++) {\n",
    "        cout << r << \": \";\n",
    "        for (int c = 0; c < cards; c++) {\n",
    "            cout << setw(2) << arr[r][c] << \" \";\n",
    "        }\n",
    "        cout << endl;\n",
    "    }\n",
    "    cout << endl << endl;\n",
    "}\n",
    "\n",
    "int main() {\n",
    "    const int SUITS = 4;\n",
    "    const int CARDS = 13;\n",
    "    int deck[SUITS][13];\n",
    "\n",
    "    initialize_array(deck, SUITS, CARDS);\n",
    "    shuffle_deck(deck, SUITS, CARDS);\n",
    "    print_deck(deck, SUITS, CARDS);\n",
    "    return 0;\n",
    "}"
   ]
  }
 ],
 "metadata": {
  "kernelspec": {
   "display_name": "Python 2",
   "language": "python",
   "name": "python2"
  },
  "language_info": {
   "codemirror_mode": {
    "name": "ipython",
    "version": 2
   },
   "file_extension": ".py",
   "mimetype": "text/x-python",
   "name": "python",
   "nbconvert_exporter": "python",
   "pygments_lexer": "ipython2",
   "version": "2.7.11"
  }
 },
 "nbformat": 4,
 "nbformat_minor": 0
}
