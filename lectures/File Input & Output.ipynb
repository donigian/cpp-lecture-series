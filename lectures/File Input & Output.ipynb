{
 "cells": [
  {
   "cell_type": "markdown",
   "metadata": {},
   "source": [
    "Start here http://www.tutorialspoint.com/cplusplus/cpp_files_streams.htm"
   ]
  },
  {
   "cell_type": "code",
   "execution_count": null,
   "metadata": {
    "collapsed": true
   },
   "outputs": [],
   "source": [
    "#include <iostream>\n",
    "#include <fstream>\n",
    "\n",
    "using namespace std;\n",
    "\n",
    "int main ()\n",
    "{\n",
    "\n",
    "    char data[100];\n",
    "\n",
    "    // open a file in write mode.\n",
    "    ofstream outfile;\n",
    "    outfile.open(\"afile.dat\");\n",
    "\n",
    "    cout << \"Writing to the file\" << endl;\n",
    "    cout << \"Enter your name: \";\n",
    "    cin.getline(data, 100);\n",
    "\n",
    "    // write inputted data into the file.\n",
    "    outfile << data << endl;\n",
    "\n",
    "    cout << \"Enter your age: \";\n",
    "    cin >> data;\n",
    "    cin.ignore();\n",
    "\n",
    "    // again write inputted data into the file.\n",
    "    outfile << data << endl;\n",
    "\n",
    "    // close the opened file.\n",
    "    outfile.close();\n",
    "\n",
    "    // open a file in read mode.\n",
    "    ifstream infile;\n",
    "    infile.open(\"afile.dat\");\n",
    "\n",
    "    cout << \"Reading from the file\" << endl;\n",
    "    infile >> data;\n",
    "\n",
    "    // write the data at the screen.\n",
    "    cout << data << endl;\n",
    "\n",
    "    // again read the data from the file and display it.\n",
    "    infile >> data;\n",
    "    cout << data << endl;\n",
    "\n",
    "    // close the opened file.\n",
    "    infile.close();\n",
    "\n",
    "    return 0;\n",
    "}"
   ]
  }
 ],
 "metadata": {
  "kernelspec": {
   "display_name": "Python 2",
   "language": "python",
   "name": "python2"
  },
  "language_info": {
   "codemirror_mode": {
    "name": "ipython",
    "version": 2
   },
   "file_extension": ".py",
   "mimetype": "text/x-python",
   "name": "python",
   "nbconvert_exporter": "python",
   "pygments_lexer": "ipython2",
   "version": "2.7.11"
  }
 },
 "nbformat": 4,
 "nbformat_minor": 0
}
