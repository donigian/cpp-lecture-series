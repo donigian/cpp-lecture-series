{
 "cells": [
  {
   "cell_type": "markdown",
   "metadata": {},
   "source": [
    "Functions in C++ have the following form:\n",
    "```\n",
    "<return type> function_name (parameter list) {\n",
    "    \n",
    "    <return statement> // optional if type is void\n",
    "}\n",
    "```\n",
    "\n",
    "Some possible return types are...\n",
    "    + void (returns nothing)\n",
    "    + char\n",
    "    + int\n",
    "    + float\n",
    "    + double\n",
    "    + long\n",
    "    + string\n",
    "    + short\n",
    "    + bool\n",
    "    + array of the types above"
   ]
  },
  {
   "cell_type": "markdown",
   "metadata": {},
   "source": [
    "1) Write a function in C++ that converts from miles to kilometers. Your program should have a reasonable prompt for the user to enter a number of miles."
   ]
  },
  {
   "cell_type": "code",
   "execution_count": null,
   "metadata": {
    "collapsed": true
   },
   "outputs": [],
   "source": [
    "#include <iostream>\n",
    "\n",
    "using namespace std;\n",
    "\n",
    "/*\n",
    " * 1) ask user for data\n",
    " * 2) convert miles to km\n",
    " * 3) output result to user\n",
    " */\n",
    "\n",
    "double prompt_user_for_miles() {\n",
    "    cout << \"how many miles did you drive today?\" << endl;\n",
    "    double miles = 0.0;\n",
    "    cin >> miles;\n",
    "    return miles;\n",
    "}\n",
    "\n",
    "double convert_miles_to_km(double miles) {\n",
    "    const double MILES_TO_KM = 1.60934;\n",
    "    double result = miles * MILES_TO_KM;\n",
    "    return result;\n",
    "}\n",
    "\n",
    "void output_km_to_user(double km, double miles);\n",
    "\n",
    "int main() {\n",
    "    double miles = prompt_user_for_miles();\n",
    "    double km = convert_miles_to_km(miles);\n",
    "    output_km_to_user(km, miles);\n",
    "    return 0;\n",
    "}\n",
    "\n",
    "\n",
    "void output_km_to_user(double km, double miles) {\n",
    "    cout << \" so you drive \" << miles << \" miles and \"\n",
    "        << km << \" kilometers\" << endl;\n",
    "}"
   ]
  },
  {
   "cell_type": "markdown",
   "metadata": {},
   "source": [
    "2) Write a program that just declares a number of variables with legal and illegal names. Experiment and observe how with error messages from the compiler."
   ]
  },
  {
   "cell_type": "code",
   "execution_count": null,
   "metadata": {
    "collapsed": true
   },
   "outputs": [],
   "source": [
    "#include <iostream>\n",
    "\n",
    "using namespace std;\n",
    "\n",
    "int main(int argc, char * argv[]) {\n",
    "    int age = 29;\n",
    "    string name = \"bobby\";\n",
    "    char cname[] = \"bobby\";\n",
    "    char cccname[6] = \"bobby\";  // size 5 is too small since it doesn't account for\n",
    "                                // null terminated value\n",
    "    double prices[3] = {1.99,.99,2.99};\n",
    "    char vowel = 'a';\n",
    "\n",
    "    int x = 5       // missing ;\n",
    "    string another_name = 32.0; // type string & double are not compatible\n",
    "    doble another_decimal = 32.0; // mispelled data type\n",
    "    bool is_cloudy = True;        // case sensitive\n",
    "    int another integer = 3;      // variable spaces can't have names in it\n",
    "    int 3fourfive = 5;            // invalid suffix on floating constant, can't\n",
    "                                  // start variable names with numbers\n",
    "    double miles == 5.0;          // syntax error\n",
    "    int some_other_miles = 5.6;   // warning not error, due to smaller data type\n",
    "    int xmen< = 20;               // variable names can't have special chars\n",
    "    ymen = 3;                     // can't resolve variable\n",
    "    int number = \"20\";            // can't cast char array to integer\n",
    "    int 3 = i;\n",
    "    \n",
    "    return 0;\n",
    "}"
   ]
  },
  {
   "cell_type": "markdown",
   "metadata": {},
   "source": [
    "3) Convert #1 to Multiple File Structure."
   ]
  },
  {
   "cell_type": "code",
   "execution_count": null,
   "metadata": {
    "collapsed": true
   },
   "outputs": [],
   "source": [
    "// conversion.h\n",
    "// Created by Armen Donigian on 6/14/16.\n",
    "//\n",
    "\n",
    "// include guard\n",
    "#ifndef MILESTOKM_CONVERSION_H\n",
    "#define MILESTOKM_CONVERSION_H\n",
    "\n",
    "double prompt_user_for_miles();\n",
    "double convert_miles_to_km(double miles);\n",
    "void output_km_to_user(double km, double miles);\n",
    "\n",
    "#endif //MILESTOKM_CONVERSION_H"
   ]
  },
  {
   "cell_type": "code",
   "execution_count": null,
   "metadata": {
    "collapsed": true
   },
   "outputs": [],
   "source": [
    "// conversion.cpp\n",
    "// Created by Armen Donigian on 6/14/16.\n",
    "//\n",
    "\n",
    "#include <iostream>\n",
    "using namespace std;\n",
    "\n",
    "double prompt_user_for_miles() {\n",
    "    cout << \"how many miles did you drive today?\" << endl;\n",
    "    double miles = 0.0;\n",
    "    cin >> miles;\n",
    "    return miles;\n",
    "}\n",
    "\n",
    "double convert_miles_to_km(double miles) {\n",
    "    const double MILES_TO_KM = 1.60934;\n",
    "    double result = miles * MILES_TO_KM;\n",
    "    return result;\n",
    "}\n",
    "\n",
    "void output_km_to_user(double km, double miles) {\n",
    "    cout << \" so you drive \" << miles << \" miles and \"\n",
    "    << km << \" kilometers\" << endl;\n",
    "}"
   ]
  },
  {
   "cell_type": "code",
   "execution_count": null,
   "metadata": {
    "collapsed": true
   },
   "outputs": [],
   "source": [
    "// main.cpp\n",
    "#include <iostream>\n",
    "#include \"include/conversion.h\"\n",
    "\n",
    "using namespace std;\n",
    "\n",
    "int main() {\n",
    "    double miles = prompt_user_for_miles();\n",
    "    double km = convert_miles_to_km(miles);\n",
    "    output_km_to_user(km, miles);\n",
    "    return 0;\n",
    "}"
   ]
  },
  {
   "cell_type": "markdown",
   "metadata": {},
   "source": [
    "4) Write a program to calculate the total cost of items in a shopping cart. Assume taxes & discounts could apply."
   ]
  },
  {
   "cell_type": "code",
   "execution_count": null,
   "metadata": {
    "collapsed": true
   },
   "outputs": [],
   "source": [
    "#include <iostream>\n",
    "/* Two Problems\n",
    " * 1) hard coded prices which require re-compilation (BAD)\n",
    " * 2) hard coded to 3 parameters (products/prices) (REALLY BAD)\n",
    "*/\n",
    "\n",
    "using namespace std;\n",
    "\n",
    "double calculate_total_cost_of_cart(double price1,\n",
    "                                    double price2,\n",
    "                                    double price3){\n",
    "    cout << \"Total Cost: \" << price1 + price2 + price3;\n",
    "}\n",
    "\n",
    "int main(int argc, char * argv[]) {\n",
    "\n",
    "    double price1=1.99, price2=1.99, price3=2.99;\n",
    "    calculate_total_cost_of_cart(price1, price2, price3);\n",
    "    return 0;\n",
    "}"
   ]
  },
  {
   "cell_type": "markdown",
   "metadata": {},
   "source": [
    "Improved version"
   ]
  },
  {
   "cell_type": "code",
   "execution_count": null,
   "metadata": {
    "collapsed": true
   },
   "outputs": [],
   "source": [
    "#include <iostream>\n",
    "\n",
    "using namespace std;\n",
    "\n",
    "double calculate_total_cost_of_cart(double prices[], int count) {\n",
    "    double total = 0.0;\n",
    "    for (int i = 0; i <= count; i++){\n",
    "        total = total + prices[i];\n",
    "    }\n",
    "    cout << \"Total Cost: \" << total;\n",
    "}\n",
    "\n",
    "int main(int argc, char *argv[]) {\n",
    "\n",
    "    double prices[] = {1.99, 1.99, 2.99, 3.99};\n",
    "    calculate_total_cost_of_cart(prices, 3);\n",
    "    return 0;\n",
    "}"
   ]
  }
 ],
 "metadata": {
  "kernelspec": {
   "display_name": "Python 2",
   "language": "python",
   "name": "python2"
  },
  "language_info": {
   "codemirror_mode": {
    "name": "ipython",
    "version": 2
   },
   "file_extension": ".py",
   "mimetype": "text/x-python",
   "name": "python",
   "nbconvert_exporter": "python",
   "pygments_lexer": "ipython2",
   "version": "2.7.11"
  }
 },
 "nbformat": 4,
 "nbformat_minor": 0
}
