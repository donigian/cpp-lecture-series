{
 "cells": [
  {
   "cell_type": "markdown",
   "metadata": {},
   "source": [
    "## Review\n",
    "\n",
    "[Operators](http://www.tutorialspoint.com/cplusplus/cpp_operators.htm)"
   ]
  },
  {
   "cell_type": "code",
   "execution_count": null,
   "metadata": {
    "collapsed": true
   },
   "outputs": [],
   "source": [
    "//Example\n",
    "a = 2;\n",
    "b = 3; \n",
    "c = 5;\n",
    "\n",
    "//is this\n",
    "a + b / c \n",
    "    \n",
    "//same as ?\n",
    "(a + b) / c "
   ]
  },
  {
   "cell_type": "code",
   "execution_count": null,
   "metadata": {
    "collapsed": true
   },
   "outputs": [],
   "source": [
    "//how about \n",
    "a = 2;\n",
    "b = 3; \n",
    "c = 5;\n",
    "​\n",
    "//is this\n",
    "a * b / c \n",
    "    \n",
    "//same as ?\n",
    "(a * b) / c\n",
    "    \n",
    "//same as ?\n",
    "a * (b / c)"
   ]
  }
 ],
 "metadata": {
  "kernelspec": {
   "display_name": "C++",
   "language": "",
   "name": "cling"
  },
  "language_info": {
   "codemirror_mode": "text/x-c++src",
   "file_extension": ".c++",
   "mimetype": " text/x-c++src",
   "name": "c++"
  }
 },
 "nbformat": 4,
 "nbformat_minor": 0
}
