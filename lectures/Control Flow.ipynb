{
 "cells": [
  {
   "cell_type": "markdown",
   "metadata": {},
   "source": [
    "## Review\n",
    "\n",
    "[Loops](http://www.tutorialspoint.com/cplusplus/cpp_loop_types.htm)\n",
    "\n",
    "[Decisions](http://www.tutorialspoint.com/cplusplus/cpp_decision_making.htm)"
   ]
  },
  {
   "cell_type": "markdown",
   "metadata": {},
   "source": [
    "## if statment\n",
    "    1. must have a body\n",
    "    2. body can be single line\n",
    "    3. {} are optional for single line\n",
    "    4. multi-line body statements can be a code block using {}"
   ]
  },
  {
   "cell_type": "code",
   "execution_count": null,
   "metadata": {
    "collapsed": true
   },
   "outputs": [],
   "source": [
    "//example\n",
    "if (number == 1) {\n",
    "    std::cout << \"number is 1\" << std::endl;\n",
    "} else {\n",
    "    std::cout << \"number is not 1\" << std::endl;\n",
    "}"
   ]
  },
  {
   "cell_type": "code",
   "execution_count": null,
   "metadata": {
    "collapsed": true
   },
   "outputs": [],
   "source": [
    "// another example\n",
    "if (number == 1) {\n",
    "    std::cout << \"number is 1\" << std::endl;\n",
    "} else if (number < 3) {\n",
    "    std::cout << \"number is less than 3\" << std::endl;\n",
    "} else {\n",
    "    \n",
    "}"
   ]
  },
  {
   "cell_type": "markdown",
   "metadata": {},
   "source": [
    "## Exercise\n",
    "Requirements:\n",
    "    1. Guess a number\n",
    "    2. If number is < 10 and is odd, then print \"must be 1,3,5, 7 or 9\"\n",
    "    3. If number is >= 10, then print \"must not be 1,3,5, 7 or 9\"\n",
    "    4. Do this in shortest number of lines of code"
   ]
  },
  {
   "cell_type": "code",
   "execution_count": null,
   "metadata": {
    "collapsed": true
   },
   "outputs": [],
   "source": [
    "if ( guess < 10 && \n",
    "     guess % 2 == 1){\n",
    "    return  \"must be 1,3,5, 7 or 9\"\n",
    "}\n",
    "\n",
    "return \"must not be 1,3,5, 7 or 9\""
   ]
  },
  {
   "cell_type": "markdown",
   "metadata": {},
   "source": [
    "## For Loops\n",
    "Sections of for loops include:\n",
    "    1. initialization\n",
    "    2. test\n",
    "    3. increment or decrement"
   ]
  },
  {
   "cell_type": "markdown",
   "metadata": {},
   "source": [
    "`for ( initialization ; test ; increment or decrement)`"
   ]
  },
  {
   "cell_type": "markdown",
   "metadata": {},
   "source": [
    "## While loop\n",
    "\n",
    "`while ( <predicate> ) {\n",
    "    //do stuff\n",
    "}`"
   ]
  },
  {
   "cell_type": "code",
   "execution_count": null,
   "metadata": {
    "collapsed": true
   },
   "outputs": [],
   "source": [
    "//example\n",
    "int attempts = 0;\n",
    "bool success = false;\n",
    "while ( attempts < 3 && !success) {\n",
    "    success = login(uname, passwd);\n",
    "    ++attempts;\n",
    "}"
   ]
  },
  {
   "cell_type": "markdown",
   "metadata": {},
   "source": [
    "## How do you structure the above such that we execute body atleast once before testing condition?"
   ]
  },
  {
   "cell_type": "code",
   "execution_count": null,
   "metadata": {
    "collapsed": true
   },
   "outputs": [],
   "source": [
    "//do-while loop\n",
    "do { \n",
    "    // do stuff\n",
    "} ( <predicate> )"
   ]
  },
  {
   "cell_type": "markdown",
   "metadata": {},
   "source": [
    "## Differences between while & do-while?\n",
    "| while    | do-while  |\n",
    "| ------------- :| -----:|\n",
    "| predicate at beginning         | predicate at end)|\n",
    "| condition must be tested before entering loop     |  loop executes first time before predicate is evaluated | \n",
    "| may not need body| needs a body|"
   ]
  },
  {
   "cell_type": "code",
   "execution_count": null,
   "metadata": {
    "collapsed": true
   },
   "outputs": [],
   "source": [
    "int attempts = 0;\n",
    "bool success = false;\n",
    "do {\n",
    "    success = login(uname, passwd);\n",
    "    ++attempts;\n",
    "} while ( attempts < 3 && !success)"
   ]
  },
  {
   "cell_type": "markdown",
   "metadata": {},
   "source": [
    "## Switch Statement"
   ]
  },
  {
   "cell_type": "code",
   "execution_count": null,
   "metadata": {
    "collapsed": true
   },
   "outputs": [],
   "source": [
    "switch ( <int | char>) {\n",
    "    case <int | char>:\n",
    "        break;\n",
    "    default;\n",
    "}"
   ]
  },
  {
   "cell_type": "code",
   "execution_count": null,
   "metadata": {
    "collapsed": true
   },
   "outputs": [],
   "source": [
    "//example \n",
    "switch (day_of_week): {\n",
    "    case 0:\n",
    "        cafeteria_food = \"salad\"\n",
    "        break;\n",
    "    case 1:\n",
    "        cafeteria_food = \"burgers\"\n",
    "        break;\n",
    "    case 2:\n",
    "    case 3: //case 2 & 3 share functionality, but beware!\n",
    "        cafeteria_food = \"hot dogs\"\n",
    "        break;\n",
    "    default:\n",
    "        break;\n",
    "}"
   ]
  }
 ],
 "metadata": {
  "kernelspec": {
   "display_name": "C++",
   "language": "",
   "name": "cling"
  },
  "language_info": {
   "codemirror_mode": "text/x-c++src",
   "file_extension": ".c++",
   "mimetype": " text/x-c++src",
   "name": "c++"
  }
 },
 "nbformat": 4,
 "nbformat_minor": 0
}
