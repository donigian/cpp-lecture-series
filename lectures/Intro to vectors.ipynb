{
 "cells": [
  {
   "cell_type": "markdown",
   "metadata": {},
   "source": [
    "## Vector\n",
    "**Vectors** are sequence containers representing arrays that can change in size.\n",
    "\n",
    "Just like arrays, vectors use contiguous storage locations for their elements, which means that their elements can also be accessed using offsets on regular pointers to its elements, and just as efficiently as in arrays. But unlike arrays, their size can change dynamically, with their storage being handled automatically by the container.\n",
    "\n",
    "Internally, vectors use a dynamically allocated array to store their elements. This array may need to be reallocated in order to grow in size when new elements are inserted, which implies allocating a new array and moving all elements to it. This is a relatively expensive task in terms of processing time, and thus, vectors do not reallocate each time an element is added to the container.\n",
    "\n",
    "Instead, vector containers may allocate some extra storage to accommodate for possible growth, and thus the container may have an actual capacity greater than the storage strictly needed to contain its elements (i.e., its size). Libraries can implement different strategies for growth to balance between memory usage and reallocations, but in any case, reallocations should only happen at logarithmically growing intervals of size so that the insertion of individual elements at the end of the vector can be provided with amortized constant time complexity (see push_back).\n",
    "\n",
    "Therefore, compared to arrays, vectors consume more memory in exchange for the ability to manage storage and grow dynamically in an efficient way."
   ]
  },
  {
   "cell_type": "code",
   "execution_count": null,
   "metadata": {
    "collapsed": true
   },
   "outputs": [],
   "source": [
    "#include <iostream>\n",
    "#include <vector>\n",
    "\n",
    "using namespace std;\n",
    "\n",
    "void populate_vector(vector<int> &numbers){\n",
    "    for (int i = 0; i <= 5; i++)\n",
    "//        numbers[i] = i;\n",
    "        numbers.push_back(i);\n",
    "}\n",
    "\n",
    "void print_vector(vector<int> numbers) {\n",
    "    for (int i = 0; i < numbers.size(); i++)\n",
    "        cout << numbers[i] << endl;\n",
    "}\n",
    "\n",
    "\n",
    "// use iterator to access the values\n",
    "void print_using_iterator(vector<int> numbers){\n",
    "    vector<int>::iterator v = numbers.begin();\n",
    "    while( v != numbers.end()) {\n",
    "        cout << \"value of v = \" << *v << endl;\n",
    "        v++;\n",
    "    }\n",
    "}\n",
    "\n",
    "\n",
    "int main() {\n",
    "    // create a vector\n",
    "    vector<int> numbers(10,-1);\n",
    "    populate_vector(numbers);\n",
    "    print_using_iterator(numbers);\n",
    "    // printing it out\n",
    "    print_vector(numbers);\n",
    "    return 0;\n",
    "}"
   ]
  }
 ],
 "metadata": {
  "kernelspec": {
   "display_name": "Python 2",
   "language": "python",
   "name": "python2"
  },
  "language_info": {
   "codemirror_mode": {
    "name": "ipython",
    "version": 2
   },
   "file_extension": ".py",
   "mimetype": "text/x-python",
   "name": "python",
   "nbconvert_exporter": "python",
   "pygments_lexer": "ipython2",
   "version": "2.7.11"
  }
 },
 "nbformat": 4,
 "nbformat_minor": 0
}
