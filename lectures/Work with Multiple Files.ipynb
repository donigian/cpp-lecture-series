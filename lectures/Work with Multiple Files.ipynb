{
 "cells": [
  {
   "cell_type": "code",
   "execution_count": null,
   "metadata": {
    "collapsed": true
   },
   "outputs": [],
   "source": [
    "//search system include paths for iostream library\n",
    "#include <iostream>"
   ]
  },
  {
   "cell_type": "code",
   "execution_count": null,
   "metadata": {
    "collapsed": true
   },
   "outputs": [],
   "source": [
    "//include file contains headers of functions\n",
    "double calc_area_of_circle(double radius);"
   ]
  },
  {
   "cell_type": "code",
   "execution_count": null,
   "metadata": {
    "collapsed": true
   },
   "outputs": [],
   "source": [
    "// geometry.h\n",
    "//include guards make sure that names don't get included more than once\n",
    "#ifndef GEOMETRY_H_\n",
    "#define GEOMETRY_H_\n",
    "double calc_area_of_circle(double radius);\n",
    "\n",
    "#endif "
   ]
  },
  {
   "cell_type": "code",
   "execution_count": null,
   "metadata": {
    "collapsed": true
   },
   "outputs": [],
   "source": [
    "//geometry.cpp\n",
    "#include <cmath>\n",
    "#include <geometry.h>\n",
    "\n",
    "double calc_area_of_circle(double radius) {\n",
    "    return 3.14 * std::pow(radius, 2);\n",
    "}"
   ]
  },
  {
   "cell_type": "markdown",
   "metadata": {},
   "source": [
    "## System Include Path \n",
    "In order to figure out the default paths used by gcc/g++ as well as their priorities you examine the output of the following commands:\n",
    "```\n",
    "For C:\n",
    "gcc -xc -E -v -\n",
    "For C++:\n",
    "gcc -xc++ -E -v -\n",
    "```"
   ]
  },
  {
   "cell_type": "code",
   "execution_count": null,
   "metadata": {
    "collapsed": true
   },
   "outputs": [],
   "source": [
    "#include <cmath>"
   ]
  },
  {
   "cell_type": "markdown",
   "metadata": {},
   "source": [
    "## User Include Path\n",
    "Include files you create."
   ]
  },
  {
   "cell_type": "code",
   "execution_count": null,
   "metadata": {
    "collapsed": true
   },
   "outputs": [],
   "source": [
    "#include \"/Users/arm/code/cpp-lecture-series\""
   ]
  },
  {
   "cell_type": "markdown",
   "metadata": {},
   "source": [
    "## Should you use relative or absolute paths? \n",
    "### What are downsides to each? \n",
    "### Is there a best of both worlds?\n",
    "\n",
    "See [this]() for a complete example."
   ]
  }
 ],
 "metadata": {
  "kernelspec": {
   "display_name": "C++",
   "language": "",
   "name": "cling"
  },
  "language_info": {
   "codemirror_mode": "text/x-c++src",
   "file_extension": ".c++",
   "mimetype": " text/x-c++src",
   "name": "c++"
  }
 },
 "nbformat": 4,
 "nbformat_minor": 0
}
