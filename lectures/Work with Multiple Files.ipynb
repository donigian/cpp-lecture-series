{
 "cells": [
  {
   "cell_type": "code",
   "execution_count": null,
   "metadata": {
    "collapsed": true
   },
   "outputs": [],
   "source": [
    "//search system include paths for iostream library\n",
    "#include <iostream>"
   ]
  },
  {
   "cell_type": "code",
   "execution_count": null,
   "metadata": {
    "collapsed": true
   },
   "outputs": [],
   "source": [
    "//include file contains headers of functions\n",
    "double calc_area_of_circle(double radius);"
   ]
  },
  {
   "cell_type": "code",
   "execution_count": null,
   "metadata": {
    "collapsed": true
   },
   "outputs": [],
   "source": [
    "// geometry.h\n",
    "//include guards make sure that names don't get included more than once\n",
    "#ifndef GEOMETRY_H_\n",
    "#define GEOMETRY_H_\n",
    "\n",
    "double calc_area_of_square(double edge);\n",
    "\n",
    "#endif "
   ]
  },
  {
   "cell_type": "code",
   "execution_count": null,
   "metadata": {
    "collapsed": true
   },
   "outputs": [],
   "source": [
    "//geometry.cpp\n",
    "#include <cmath>\n",
    "#include \"../include/geometric_utils.h\"\n",
    "\n",
    "double calc_area_of_square(double edge) {\n",
    "    return std::pow(edge, 2);\n",
    "}"
   ]
  },
  {
   "cell_type": "markdown",
   "metadata": {},
   "source": [
    "## System Include Path \n",
    "In order to figure out the default paths used by gcc/g++ as well as their priorities you examine the output of the following commands:\n",
    "```\n",
    "For C:\n",
    "gcc -xc -E -v -\n",
    "For C++:\n",
    "gcc -xc++ -E -v -\n",
    "```"
   ]
  },
  {
   "cell_type": "code",
   "execution_count": null,
   "metadata": {
    "collapsed": true
   },
   "outputs": [],
   "source": [
    "#include <cmath>"
   ]
  },
  {
   "cell_type": "markdown",
   "metadata": {},
   "source": [
    "## User Include Path\n",
    "Include files you create."
   ]
  },
  {
   "cell_type": "code",
   "execution_count": null,
   "metadata": {
    "collapsed": true
   },
   "outputs": [],
   "source": [
    "#include \"/Users/arm/code/cpp-lecture-series\""
   ]
  },
  {
   "cell_type": "markdown",
   "metadata": {},
   "source": [
    "## Should you use relative or absolute paths? \n",
    "### What are downsides to each? \n",
    "### Is there a best of both worlds?\n",
    "\n",
    "See [this]() for a complete example."
   ]
  },
  {
   "cell_type": "markdown",
   "metadata": {},
   "source": [
    "## Expected Test Outcomes\n",
    "| Side    | Area  |\n",
    "| ------------- :| -----:|\n",
    "| 1         | 1|\n",
    "| 2     |  4   | \n",
    "| 5| 25|\n",
    "| 9| 81|"
   ]
  },
  {
   "cell_type": "markdown",
   "metadata": {},
   "source": [
    "## Assertions"
   ]
  },
  {
   "cell_type": "code",
   "execution_count": null,
   "metadata": {
    "collapsed": true
   },
   "outputs": [],
   "source": [
    "ASSERT_TRUE( true == false ); // fail\n",
    "ASSERT_TRUE( false ); //fail"
   ]
  }
 ],
 "metadata": {
  "kernelspec": {
   "display_name": "C++",
   "language": "",
   "name": "cling"
  },
  "language_info": {
   "codemirror_mode": "text/x-c++src",
   "file_extension": ".c++",
   "mimetype": " text/x-c++src",
   "name": "c++"
  }
 },
 "nbformat": 4,
 "nbformat_minor": 0
}
