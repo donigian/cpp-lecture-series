{
 "cells": [
  {
   "cell_type": "markdown",
   "metadata": {},
   "source": [
    "[History of C++](https://en.wikipedia.org/wiki/C%2B%2B)\n",
    "\n",
    "TL;DR\n",
    ">1. Invented by [Bjarne Stroustrup](https://www.google.com/search?q=bjarne+stroustrup&source=lnms&tbm=isch&sa=X&ved=0ahUKEwiXso6TkMnMAhVMz2MKHSCaDu0Q_AUICSgD&biw=1337&bih=1274) while using Simula 67 (which was too slow)\n",
    "2. Developed new language by extending C with classes\n",
    "3. Renamed from \"C with Classes\" to C++"
   ]
  },
  {
   "cell_type": "markdown",
   "metadata": {},
   "source": [
    "[![Phases of C++](../images/phases_of_cpp.jpg)\n"
   ]
  },
  {
   "cell_type": "markdown",
   "metadata": {},
   "source": [
    "To compile a program\n",
    "\n",
    "**`g++ -o hello main.cpp -std=c++11`**\n",
    "\n",
    "To run the program:\n",
    "\n",
    "**`./hello`**"
   ]
  },
  {
   "cell_type": "markdown",
   "metadata": {},
   "source": [
    "## Basix Form"
   ]
  },
  {
   "cell_type": "code",
   "execution_count": null,
   "metadata": {
    "collapsed": true
   },
   "outputs": [],
   "source": [
    "// main.cpp\n",
    "// Your first C++ Program comment\n",
    "\n",
    "#include <iostream>\n",
    "// note: C++ compilers have 2 phases: Compile & Link\n",
    "// note: C++ programs use main method & return integers\n",
    "// note: Braces {} or () define scope and blocks\n",
    "// note: console output uses redirection to std::cout\n",
    "// note: returns 0 for Success, non-zero for failure. You may omit return statement and\n",
    "//       compiler will return success or 0\n",
    "// note: string literal\n",
    "// note: std namespace\n",
    "// note: to compile, g++ -o hello main.cpp\n",
    "int main() {\n",
    "    std::cout << \"Hello, World!\" << std::endl;\n",
    "    return 0;\n",
    "}"
   ]
  },
  {
   "cell_type": "markdown",
   "metadata": {},
   "source": [
    "## Extended Form"
   ]
  },
  {
   "cell_type": "code",
   "execution_count": null,
   "metadata": {
    "collapsed": true
   },
   "outputs": [],
   "source": [
    "// total count of args passed to executable: 0...argc\n",
    "// argv: array of null terminated multi-byte strings\n",
    "int main (int argc, char* argv[]) {\n",
    "    // souce code here\n",
    "}"
   ]
  },
  {
   "cell_type": "markdown",
   "metadata": {},
   "source": [
    "## Null Terminated Strings\n",
    "[![Null Terminated String](../images/null_terminated_string.png)"
   ]
  },
  {
   "cell_type": "markdown",
   "metadata": {},
   "source": [
    "## C++ Main function Rules"
   ]
  },
  {
   "cell_type": "markdown",
   "metadata": {},
   "source": [
    "1. Must have global function\n",
    "2. Designated as start & termination of a program\n",
    "3. Function cannot be overloaded (exists in a single form in an application)\n",
    "4. Must return an integer\n",
    "5. Either basic of extended form\n",
    "6. argv[0] is application name or empty string\n",
    "7. argc must be a positive integer\n",
    "8. Must return out of main with `return` statement"
   ]
  },
  {
   "cell_type": "markdown",
   "metadata": {},
   "source": [
    "## Dealing with Program Arguments"
   ]
  },
  {
   "cell_type": "markdown",
   "metadata": {},
   "source": [
    "[![Program Args](../images/program_args.png)"
   ]
  },
  {
   "cell_type": "markdown",
   "metadata": {},
   "source": [
    "## Install an Integrated Development Enviornment\n",
    "\n",
    "You may use an editor of your choice, though I recommend you do the following...\n",
    "\n",
    "[Sign up for free student Integrated Development Enviornments from JetBrains](https://www.jetbrains.com/student/)\n",
    "\n",
    "[Start Here](https://www.jetbrains.com/clion/features/start-your-project.html)"
   ]
  },
  {
   "cell_type": "markdown",
   "metadata": {},
   "source": [
    "## Print total # of arguments"
   ]
  },
  {
   "cell_type": "code",
   "execution_count": null,
   "metadata": {
    "collapsed": true
   },
   "outputs": [],
   "source": [
    "#include <iostream>\n",
    "\n",
    "// total count of args passed to executable: 0...argc\n",
    "// argv: array of null terminated multi-byte strings\n",
    "int main (int argc, char* argv[]) {\n",
    "\n",
    "    std::cout << \"Total arguments: \" << argc << std::endl;\n",
    "\n",
    "}"
   ]
  },
  {
   "cell_type": "markdown",
   "metadata": {},
   "source": [
    "## Print all arguments"
   ]
  },
  {
   "cell_type": "code",
   "execution_count": null,
   "metadata": {
    "collapsed": true
   },
   "outputs": [],
   "source": [
    "#include <iostream>\n",
    "\n",
    "// total count of args passed to executable: 0...argc\n",
    "// argv: array of null terminated multi-byte strings\n",
    "int main (int argc, char* argv[]) {\n",
    "    \n",
    "    std::cout << \"Total arguments: \" << argc << std::endl;\n",
    "    \n",
    "    for (int i = 0; i < argc; ++i) {\n",
    "        std::cout << \"arg[\" << i << \"]= \" << argv[i] << std::endl;\n",
    "    }\n",
    "}"
   ]
  },
  {
   "cell_type": "markdown",
   "metadata": {},
   "source": [
    "## Add error & Minimum # of arguments to be 5"
   ]
  },
  {
   "cell_type": "code",
   "execution_count": null,
   "metadata": {
    "collapsed": true
   },
   "outputs": [],
   "source": [
    "#include <iostream>\n",
    "\n",
    "// total count of args passed to executable: 0...argc\n",
    "// argv: array of null terminated multi-byte strings\n",
    "int main (int argc, char* argv[]) {\n",
    "    \n",
    "    if (argc < 5) {\n",
    "        std::cerr << \"Invalid # of arguments, atleast 4 needed\" << std::endl;\n",
    "        return -1;\n",
    "    }\n",
    "    \n",
    "    std::cout << \"Total arguments: \" << argc << std::endl;\n",
    "    \n",
    "    for (int i = 0; i < argc; ++i) {\n",
    "        std::cout << \"arg[\" << i << \"]= \" << argv[i] << std::endl;\n",
    "    }\n",
    "}"
   ]
  },
  {
   "cell_type": "markdown",
   "metadata": {},
   "source": [
    "## How to pass multiple values "
   ]
  },
  {
   "cell_type": "markdown",
   "metadata": {},
   "source": [
    "`my_program first \"this is second\" third fourth`"
   ]
  },
  {
   "cell_type": "markdown",
   "metadata": {},
   "source": [
    "## Output of last command"
   ]
  },
  {
   "cell_type": "markdown",
   "metadata": {},
   "source": [
    "`echo $?`"
   ]
  }
 ],
 "metadata": {
  "kernelspec": {
   "display_name": "C++",
   "language": "",
   "name": "cling"
  },
  "language_info": {
   "codemirror_mode": "text/x-c++src",
   "file_extension": ".c++",
   "mimetype": " text/x-c++src",
   "name": "c++"
  }
 },
 "nbformat": 4,
 "nbformat_minor": 0
}
