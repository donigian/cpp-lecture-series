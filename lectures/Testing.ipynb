{
 "cells": [
  {
   "cell_type": "markdown",
   "metadata": {},
   "source": [
    "## List the first 100 reasons why it's important to test your code?\n",
    "    1. You don't want customers to find bugs...do you?\n",
    "    2. Testing actually produces better design but it might get challenging\n",
    "    3. Finding bugs earlier is less $$ to fix\n",
    "    4. Just because your program compiles does it mean it works?\n",
    "    5. ..."
   ]
  },
  {
   "cell_type": "markdown",
   "metadata": {
    "collapsed": false
   },
   "source": [
    "[![Software Testing](../images/software_testing.png)"
   ]
  },
  {
   "cell_type": "markdown",
   "metadata": {},
   "source": [
    "## Unit Tests\n",
    "Testing individual functions, classes, structs and algorithms which make up the building blocks of your program.\n",
    "\n",
    "## Integration Tests\n",
    "Tests the modules of a system.\n",
    "\n",
    "## Functional Tests\n",
    "Tests the features of the system to ensure it's met the functional requirements.\n",
    "\n",
    "## Acceptence Tests\n",
    "Tested by the customer to verify software meets all requirements."
   ]
  },
  {
   "cell_type": "markdown",
   "metadata": {},
   "source": [
    "[CLion Test Info](https://www.jetbrains.com/clion/features/unit-testing.html)\n",
    "\n",
    "[CLion Test Demo Video](https://www.youtube.com/watch?v=8Up5eNZ0FLw)\n",
    "\n",
    "[Google Test](https://github.com/google/googletest/blob/master/googletest/docs/Primer.md)"
   ]
  },
  {
   "cell_type": "code",
   "execution_count": null,
   "metadata": {
    "collapsed": true
   },
   "outputs": [],
   "source": []
  }
 ],
 "metadata": {
  "kernelspec": {
   "display_name": "C++",
   "language": "",
   "name": "cling"
  },
  "language_info": {
   "codemirror_mode": "text/x-c++src",
   "file_extension": ".c++",
   "mimetype": " text/x-c++src",
   "name": "c++"
  }
 },
 "nbformat": 4,
 "nbformat_minor": 0
}
