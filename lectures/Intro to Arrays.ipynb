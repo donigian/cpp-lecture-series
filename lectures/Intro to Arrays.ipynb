{
 "cells": [
  {
   "cell_type": "code",
   "execution_count": null,
   "metadata": {
    "collapsed": true
   },
   "outputs": [],
   "source": [
    "#include <iostream>\n",
    "#include <iomanip>\n",
    "\n",
    "using namespace std;\n",
    "\n",
    "void initialize_array(int arr[], int size) {\n",
    "    for (int i = 0; i < size; i++) {\n",
    "        arr[i] = 0;\n",
    "    }\n",
    "}\n",
    "\n",
    "\n",
    "void assign_random_values(int arr[], int size) {\n",
    "    for (int i = 0; i < size; i++) {\n",
    "        arr[i] = rand() % 20;\n",
    "    }\n",
    "}\n",
    "\n",
    "\n",
    "void print_array(int arr[], int size) {\n",
    "    for (int i = 0; i < size; i++) {\n",
    "        cout << setw(2) << i << \" : \" << arr[i] << endl;\n",
    "    }\n",
    "    cout << endl << endl;\n",
    "}\n",
    "\n",
    "void calculate_occurrences(int occurrences[], int arr[], int size) {\n",
    "    for (int i = 0; i < size; i++) {\n",
    "        occurrences[arr[i]] += 1;\n",
    "    }\n",
    "}\n",
    "\n",
    "void print_histogram(int occurrences[], int size) {\n",
    "    for (int i = 0; i < size; i++) {\n",
    "        cout << setw(2) << i << \" : \";\n",
    "        for (int j = 0; j < occurrences[i]; j++) {\n",
    "            cout << \"*\";\n",
    "        }\n",
    "        cout << endl;\n",
    "    }\n",
    "}\n",
    "\n",
    "int main() {\n",
    "    srand(time(NULL));\n",
    "    // index starts @0, so 0...19\n",
    "    const int ARR_SIZE = 9000000;\n",
    "    int numbers[ARR_SIZE];\n",
    "    int num_of_occurrences[ARR_SIZE];\n",
    "\n",
    "    initialize_array(numbers, ARR_SIZE);\n",
    "    assign_random_values(numbers, ARR_SIZE);\n",
    "    print_array(numbers, ARR_SIZE);\n",
    "\n",
    "    initialize_array(num_of_occurrences, ARR_SIZE);\n",
    "    calculate_occurrences(num_of_occurrences, numbers, ARR_SIZE);\n",
    "    print_array(num_of_occurrences, ARR_SIZE);\n",
    "    print_histogram(num_of_occurrences, ARR_SIZE);\n",
    "\n",
    "    return 0;\n",
    "}"
   ]
  }
 ],
 "metadata": {
  "kernelspec": {
   "display_name": "Python 2",
   "language": "python",
   "name": "python2"
  },
  "language_info": {
   "codemirror_mode": {
    "name": "ipython",
    "version": 2
   },
   "file_extension": ".py",
   "mimetype": "text/x-python",
   "name": "python",
   "nbconvert_exporter": "python",
   "pygments_lexer": "ipython2",
   "version": "2.7.11"
  }
 },
 "nbformat": 4,
 "nbformat_minor": 0
}
