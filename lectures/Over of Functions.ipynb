{
 "cells": [
  {
   "cell_type": "markdown",
   "metadata": {},
   "source": [
    "Functions in C++ have the following form:\n",
    "```\n",
    "<return type> function_name (parameter list) {\n",
    "    \n",
    "    <return statement> // optional if type is void\n",
    "}\n",
    "```\n",
    "\n",
    "Some possible return types are...\n",
    "    + void (returns nothing)\n",
    "    + char\n",
    "    + int\n",
    "    + float\n",
    "    + double\n",
    "    + long\n",
    "    + string\n",
    "    + short\n",
    "    + bool\n",
    "    + array of the types above"
   ]
  },
  {
   "cell_type": "code",
   "execution_count": null,
   "metadata": {
    "collapsed": true
   },
   "outputs": [],
   "source": []
  }
 ],
 "metadata": {
  "kernelspec": {
   "display_name": "Python 2",
   "language": "python",
   "name": "python2"
  },
  "language_info": {
   "codemirror_mode": {
    "name": "ipython",
    "version": 2
   },
   "file_extension": ".py",
   "mimetype": "text/x-python",
   "name": "python",
   "nbconvert_exporter": "python",
   "pygments_lexer": "ipython2",
   "version": "2.7.11"
  }
 },
 "nbformat": 4,
 "nbformat_minor": 0
}
