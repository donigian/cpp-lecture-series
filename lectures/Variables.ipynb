{
 "cells": [
  {
   "cell_type": "markdown",
   "metadata": {},
   "source": [
    "## Review the following\n",
    "[Basic Syntax](http://www.tutorialspoint.com/cplusplus/cpp_basic_syntax.htm)\n",
    "\n",
    "[Comments](http://www.tutorialspoint.com/cplusplus/cpp_comments.htm)\n",
    "\n",
    "[Variable Types](http://www.tutorialspoint.com/cplusplus/cpp_variable_types.htm)\n",
    "\n",
    "[Variable Scope](http://www.tutorialspoint.com/cplusplus/cpp_variable_scope.htm)\n",
    "\n",
    "[Constants/Literals](http://www.tutorialspoint.com/cplusplus/cpp_constants_literals.htm)\n",
    "\n",
    "[Modifier Types](http://www.tutorialspoint.com/cplusplus/cpp_modifier_types.htm)"
   ]
  },
  {
   "cell_type": "markdown",
   "metadata": {},
   "source": [
    "## Variable declaration"
   ]
  },
  {
   "cell_type": "code",
   "execution_count": null,
   "metadata": {
    "collapsed": true
   },
   "outputs": [],
   "source": [
    "int num;  // declared variable num but not initialed. \n",
    "          // The memory value is whatever was stored in it last time the program ran\n",
    "\n",
    "std::count << \"variable num not initialized num = \" << num << std::endl;"
   ]
  },
  {
   "cell_type": "markdown",
   "metadata": {},
   "source": [
    "Rule: You should declare & initialize variables as close as to where it's being used."
   ]
  },
  {
   "cell_type": "code",
   "execution_count": null,
   "metadata": {
    "collapsed": true
   },
   "outputs": [],
   "source": [
    "//declare & initialize\n",
    "int num = 1;\n",
    "\n",
    "// or\n",
    "int num;\n",
    "num = 1;"
   ]
  },
  {
   "cell_type": "markdown",
   "metadata": {},
   "source": [
    "## Mutable vs Immutable Variables\n",
    "Mutable variables change through lifetime of a program.\n",
    "\n",
    "Immutable variables don't change through lifetime of a program."
   ]
  },
  {
   "cell_type": "code",
   "execution_count": null,
   "metadata": {
    "collapsed": true
   },
   "outputs": [],
   "source": [
    "// immutable variables\n",
    "const double pi = 3.14;\n",
    "\n",
    "//or\n",
    "double const pi = 3.14;"
   ]
  },
  {
   "cell_type": "markdown",
   "metadata": {},
   "source": [
    "## const vs constexpr?\n",
    "**constexpr**: value is known at compile time and doesn't change for life of a program.\n",
    "\n",
    "**const** qualifier: runtime value that is once assigned in the application should not change\n",
    "\n",
    "Example:\n",
    "  1. value of PI\n",
    "  2. circumference of a circle"
   ]
  },
  {
   "cell_type": "code",
   "execution_count": null,
   "metadata": {
    "collapsed": true
   },
   "outputs": [],
   "source": [
    "constexpr double PI = 3.14;\n",
    "\n",
    "const double circumference = calculate_circum(radius());"
   ]
  }
 ],
 "metadata": {
  "kernelspec": {
   "display_name": "C++",
   "language": "",
   "name": "cling"
  },
  "language_info": {
   "codemirror_mode": "text/x-c++src",
   "file_extension": ".c++",
   "mimetype": " text/x-c++src",
   "name": "c++"
  }
 },
 "nbformat": 4,
 "nbformat_minor": 0
}
