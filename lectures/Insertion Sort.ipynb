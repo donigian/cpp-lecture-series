{
 "cells": [
  {
   "cell_type": "markdown",
   "metadata": {},
   "source": [
    "Insertion sort iterates, consuming one input element each repetition, and growing a sorted output list. Each iteration, insertion sort removes one element from the input data, finds the location it belongs within the sorted list, and inserts it there. It repeats until no input elements remain.\n",
    "\n",
    "https://en.wikipedia.org/wiki/Insertion_sort"
   ]
  },
  {
   "cell_type": "code",
   "execution_count": null,
   "metadata": {
    "collapsed": true
   },
   "outputs": [],
   "source": [
    "#include <iostream>\n",
    "\n",
    "using namespace std;\n",
    "\n",
    "void swap(int &x, int &y) {\n",
    "    int temp;\n",
    "    temp = x; /* save the value at address x */\n",
    "    x = y;    /* put y into x */\n",
    "    y = temp; /* put x into y */\n",
    "\n",
    "    return;\n",
    "}\n",
    "\n",
    "void print_array(int array[], int size) {\n",
    "    cout << \"buble sort steps: \";\n",
    "    int j;\n",
    "    for (j = 0; j < size; j++)\n",
    "        cout << \" \" << array[j];\n",
    "    cout << endl;\n",
    "} \n",
    " \n",
    "int insertion_sort(int arr[], int length) {\n",
    "    int j, temp;\n",
    "\n",
    "    for (int i = 0; i < length; i++) {\n",
    "        j = i;\n",
    "\n",
    "        while (j > 0 && arr[j] < arr[j - 1]) {\n",
    "            swap(arr[j], arr[j - 1]);\n",
    "            j--;\n",
    "        }\n",
    "    }\n",
    "    print_array(arr, 5);\n",
    "}\n",
    "\n",
    "\n",
    "int main() {\n",
    "    int to_be_sorted[] = {7, 4, 8, 1, 3};\n",
    "    selection_sort(to_be_sorted,5);\n",
    "    return 0;\n",
    "}"
   ]
  }
 ],
 "metadata": {
  "kernelspec": {
   "display_name": "Python 2",
   "language": "python",
   "name": "python2"
  },
  "language_info": {
   "codemirror_mode": {
    "name": "ipython",
    "version": 2
   },
   "file_extension": ".py",
   "mimetype": "text/x-python",
   "name": "python",
   "nbconvert_exporter": "python",
   "pygments_lexer": "ipython2",
   "version": "2.7.11"
  }
 },
 "nbformat": 4,
 "nbformat_minor": 0
}
