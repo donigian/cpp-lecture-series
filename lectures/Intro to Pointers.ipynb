{
 "cells": [
  {
   "cell_type": "markdown",
   "metadata": {},
   "source": [
    "(Intro to Pointers) [http://www.cplusplus.com/doc/tutorial/pointers/]"
   ]
  },
  {
   "cell_type": "code",
   "execution_count": null,
   "metadata": {
    "collapsed": true
   },
   "outputs": [],
   "source": [
    "#include <iostream>\n",
    "#include <vector>\n",
    "\n",
    "using namespace std;\n",
    "\n",
    "int main() {\n",
    "    vector<string> names;\n",
    "    names.push_back(\"Kobe\");\n",
    "    names.push_back(\"Ingram\");\n",
    "    names.push_back(\"MJ\");\n",
    "    names.push_back(\"Young\");\n",
    "\n",
    "    cout << &names[0] << endl;\n",
    "    cout << &names[1] << endl;\n",
    "    cout << &names[2] << endl;\n",
    "\n",
    "    vector<int> numbers;\n",
    "    numbers.push_back(4);\n",
    "    numbers.push_back(2);\n",
    "    numbers.push_back(3);\n",
    "    numbers.push_back(2);\n",
    "\n",
    "    cout << &numbers[0] << endl;\n",
    "    cout << &numbers[1] << endl;\n",
    "    cout << &numbers[2] << endl;\n",
    "\n",
    "    int firstvalue=0, secondvalue=0;\n",
    "    int* mypointer;\n",
    "\n",
    "    mypointer = &firstvalue;\n",
    "    *mypointer = 10;\n",
    "    mypointer = &secondvalue;\n",
    "    *mypointer = 20;\n",
    "    cout << \"firstvalue is \" << firstvalue << '\\n';\n",
    "    cout << \"secondvalue is \" << secondvalue << '\\n';\n",
    "\n",
    "    int some_more_numbers[5];\n",
    "    int * p;\n",
    "    p = some_more_numbers;\n",
    "    *p = 10;\n",
    "    p++;  *p = 20;\n",
    "    p = &some_more_numbers[2];  *p = 30;\n",
    "    p = some_more_numbers + 3;  *p = 40;\n",
    "    p = some_more_numbers;  *(p+4) = 50;\n",
    "    for (int n=0; n<5; n++)\n",
    "        cout << some_more_numbers[n] << \", \";\n",
    "\n",
    "    return 0;\n",
    "}"
   ]
  }
 ],
 "metadata": {
  "kernelspec": {
   "display_name": "Python 2",
   "language": "python",
   "name": "python2"
  },
  "language_info": {
   "codemirror_mode": {
    "name": "ipython",
    "version": 2
   },
   "file_extension": ".py",
   "mimetype": "text/x-python",
   "name": "python",
   "nbconvert_exporter": "python",
   "pygments_lexer": "ipython2",
   "version": "2.7.11"
  }
 },
 "nbformat": 4,
 "nbformat_minor": 0
}
