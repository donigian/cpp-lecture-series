{
 "cells": [
  {
   "cell_type": "markdown",
   "metadata": {},
   "source": [
    "## Pass By Value\n",
    "Function parameters receive copies of the data sent in."
   ]
  },
  {
   "cell_type": "code",
   "execution_count": null,
   "metadata": {
    "collapsed": true
   },
   "outputs": [],
   "source": [
    "#include <iostream>\n",
    "\n",
    "using namespace std;\n",
    "\n",
    "void pass_by_value(int first, double second) {\n",
    "    first = 5;\n",
    "    second = 5.0;\n",
    "}\n",
    "\n",
    "int main() {\n",
    "    int first = 1;\n",
    "    double second = 1.0;\n",
    "    cout << \"Pass by Value before function call \" << \"first: \" << first\n",
    "         << \" second: \" << second << endl;\n",
    "\n",
    "    pass_by_value(first, second);\n",
    "    cout << \"Pass by Value after function call \" << \"first: \" << first\n",
    "         << \" second: \" << second << endl;\n",
    "    return 0;\n",
    "}"
   ]
  },
  {
   "cell_type": "markdown",
   "metadata": {},
   "source": [
    "## Pass By Reference"
   ]
  },
  {
   "cell_type": "code",
   "execution_count": null,
   "metadata": {
    "collapsed": true
   },
   "outputs": [],
   "source": [
    "#include <iostream>\n",
    "\n",
    "using namespace std;\n",
    "\n",
    "/*\n",
    " * int& third\n",
    " * int & third\n",
    " * int &third\n",
    " */\n",
    "void pass_by_reference(int & third, double & fourth){\n",
    "    third = 10;\n",
    "    fourth = 10.0;\n",
    "}\n",
    "\n",
    "\n",
    "int main() {\n",
    "    int third = 1; double fourth = 1.0;\n",
    "\n",
    "    cout << \"Pass by Reference before function call \" << \"third: \" << third\n",
    "    << \" fourth: \" << fourth << endl;\n",
    "    pass_by_reference(third, fourth);\n",
    "\n",
    "    cout << \"Pass by Value after function call \" << \"third: \" << third\n",
    "    << \" fourth: \" << fourth << endl;\n",
    "    return 0;\n",
    "}"
   ]
  },
  {
   "cell_type": "markdown",
   "metadata": {},
   "source": [
    "## Comparing: Value vs. Reference\n",
    "\n",
    "**Pass By Value**\n",
    "The local parameters are copies of the original arguments passed in\n",
    "Changes made in the function to these variables do not affect originals\n",
    "\n",
    "**Pass By Reference**\n",
    "The local parameters are references to the storage locations of the original arguments passed in.\n",
    "Changes to these variables in the function will affect the originals\n",
    "No copy is made, so overhead of copying (time, storage) is saved"
   ]
  },
  {
   "cell_type": "markdown",
   "metadata": {},
   "source": [
    "## const Reference Parameters"
   ]
  },
  {
   "cell_type": "code",
   "execution_count": null,
   "metadata": {
    "collapsed": true
   },
   "outputs": [],
   "source": [
    "The keyword const can be used on reference parameters.\n",
    "\n",
    "```void func(const int& x);\t// pass by const reference```\n",
    "\n",
    "This will prevent x from being changed in the function body "
   ]
  },
  {
   "cell_type": "markdown",
   "metadata": {},
   "source": [
    "    1) This establishes variableName as a reference to a location that cannot be changed through the use of variableName. \n",
    "\n",
    "    2) This would be used to avoid the overhead of making a copy (especially of a large item), but still prevent the data from being changed"
   ]
  },
  {
   "cell_type": "markdown",
   "metadata": {},
   "source": [
    "## Complete Program"
   ]
  },
  {
   "cell_type": "code",
   "execution_count": null,
   "metadata": {
    "collapsed": true
   },
   "outputs": [],
   "source": [
    "#include <iostream>\n",
    "\n",
    "using namespace std;\n",
    "\n",
    "void pass_by_value(int first, double second) {\n",
    "    first = 5;\n",
    "    second = 5.0;\n",
    "}\n",
    "\n",
    "/*\n",
    " * int& third\n",
    " * int & third\n",
    " * int &third\n",
    " */\n",
    "void pass_by_reference(int & third, double & fourth){\n",
    "    third = 10;\n",
    "    fourth = 10.0;\n",
    "}\n",
    "\n",
    "int main() {\n",
    "    int first = 1;\n",
    "    double second = 1.0;\n",
    "    cout << \"Pass by Value before function call \" << \"first: \" << first\n",
    "         << \" second: \" << second << endl;\n",
    "\n",
    "    pass_by_value(first, second);\n",
    "    cout << \"Pass by Value after function call \" << \"first: \" << first\n",
    "         << \" second: \" << second << endl;\n",
    "\n",
    "    int third = 1; double fourth = 1.0;\n",
    "\n",
    "    cout << \"Pass by Reference before function call \" << \"third: \" << third\n",
    "    << \" fourth: \" << fourth << endl;\n",
    "    pass_by_reference(third, fourth);\n",
    "\n",
    "    cout << \"Pass by Value after function call \" << \"third: \" << third\n",
    "    << \" fourth: \" << fourth << endl;\n",
    "    return 0;\n",
    "}"
   ]
  }
 ],
 "metadata": {
  "kernelspec": {
   "display_name": "Python 2",
   "language": "python",
   "name": "python2"
  },
  "language_info": {
   "codemirror_mode": {
    "name": "ipython",
    "version": 2
   },
   "file_extension": ".py",
   "mimetype": "text/x-python",
   "name": "python",
   "nbconvert_exporter": "python",
   "pygments_lexer": "ipython2",
   "version": "2.7.11"
  }
 },
 "nbformat": 4,
 "nbformat_minor": 0
}
