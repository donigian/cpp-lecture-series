{
 "cells": [
  {
   "cell_type": "markdown",
   "metadata": {},
   "source": [
    "The algorithm divides the input list into two parts: the sublist of items already sorted, which is built up from left to right at the front (left) of the list, and the sublist of items remaining to be sorted that occupy the rest of the list. Initially, the sorted sublist is empty and the unsorted sublist is the entire input list. The algorithm proceeds by finding the smallest (or largest, depending on sorting order) element in the unsorted sublist, exchanging (swapping) it with the leftmost unsorted element (putting it in sorted order), and moving the sublist boundaries one element to the right.\n",
    "\n",
    "https://en.wikipedia.org/wiki/Selection_sort"
   ]
  },
  {
   "cell_type": "code",
   "execution_count": null,
   "metadata": {
    "collapsed": true
   },
   "outputs": [],
   "source": [
    "#include <iostream>\n",
    "\n",
    "using namespace std;\n",
    "\n",
    "void swap(int &x, int &y) {\n",
    "    int temp;\n",
    "    temp = x; /* save the value at address x */\n",
    "    x = y;    /* put y into x */\n",
    "    y = temp; /* put x into y */\n",
    "\n",
    "    return;\n",
    "}\n",
    "\n",
    "void print_array(int array[], int size) {\n",
    "    cout << \"buble sort steps: \";\n",
    "    int j;\n",
    "    for (j = 0; j < size; j++)\n",
    "        cout << \" \" << array[j];\n",
    "    cout << endl;\n",
    "}//end of print_array\n",
    "\n",
    "void selection_sort (int arr[], int size)\n",
    "{\n",
    "    int min_ele_loc;\n",
    "    for (int i = 0; i < 9; ++i)\n",
    "    {\n",
    "        //Find minimum element in the unsorted array\n",
    "        //Assume it's the first element\n",
    "        min_ele_loc = i;\n",
    "\n",
    "        //Loop through the array to find it\n",
    "        for (int j = i + 1; j < 10; ++j)\n",
    "        {\n",
    "            if (arr[j] < arr[min_ele_loc])\n",
    "            {\n",
    "                //Found new minimum position, if present\n",
    "                min_ele_loc = j;\n",
    "            }\n",
    "        }\n",
    "\n",
    "        //Swap the values\n",
    "        swap (arr[i], arr[min_ele_loc]);\n",
    "    }\n",
    "    print_array(arr,5);\n",
    "}\n",
    "\n",
    "int main() {\n",
    "    int to_be_sorted[] = {7, 4, 8, 1, 3};\n",
    "    selection_sort(to_be_sorted,5);\n",
    "    return 0;\n",
    "}"
   ]
  }
 ],
 "metadata": {
  "kernelspec": {
   "display_name": "Python 2",
   "language": "python",
   "name": "python2"
  },
  "language_info": {
   "codemirror_mode": {
    "name": "ipython",
    "version": 2
   },
   "file_extension": ".py",
   "mimetype": "text/x-python",
   "name": "python",
   "nbconvert_exporter": "python",
   "pygments_lexer": "ipython2",
   "version": "2.7.11"
  }
 },
 "nbformat": 4,
 "nbformat_minor": 0
}
