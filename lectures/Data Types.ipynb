{
 "cells": [
  {
   "cell_type": "markdown",
   "metadata": {},
   "source": [
    "## C++ Data Types \n",
    "[Brief overview](http://www.tutorialspoint.com/cplusplus/cpp_data_types.htm)\n",
    "\n",
    "[Detailed overview](http://en.cppreference.com/w/cpp/language/types)"
   ]
  },
  {
   "cell_type": "markdown",
   "metadata": {},
   "source": [
    "## Character Types"
   ]
  },
  {
   "cell_type": "markdown",
   "metadata": {},
   "source": [
    "| Char Types    | Description  |\n",
    "| ------------- :| -----:|\n",
    "| char         | 1 byte (8 bits)|\n",
    "| char16_t     |  atleast 16 bits, greater than char | \n",
    "| char32_t| atleast 32 bits, greater than 16 bit char|\n",
    "| wchar_t| Largest character set (supports Chinese & other languages)|"
   ]
  },
  {
   "cell_type": "markdown",
   "metadata": {},
   "source": [
    "## Integral Types\n",
    "\n",
    "| Integer Types    | Description  |\n",
    "| ------------- :| -----:|\n",
    "| short int         | atleast 8 bits, often 16 bits)|\n",
    "| int     |  atleast 16 bits | \n",
    "| long int| atleast 32 bits|\n",
    "| long long int| atleast 64 bits|"
   ]
  },
  {
   "cell_type": "markdown",
   "metadata": {},
   "source": [
    "## Signed/Unsigned Max Values\n",
    "\n",
    "| Integer Types    | Description  |\n",
    "| ------------- :| -----:|\n",
    "| signed short         | 2^15-1|\n",
    "|  unsigned short       |  2^16-1 | \n",
    "| signed int| 2^31-1|\n",
    "| unsigned int| 2^32-1|\n",
    "| signed long| 2^31-1|\n",
    "| unsigned long| 2^32-1|"
   ]
  },
  {
   "cell_type": "code",
   "execution_count": null,
   "metadata": {
    "collapsed": true
   },
   "outputs": [],
   "source": [
    "// Examples\n",
    "\n",
    "short num = -1;                     // ok\n",
    "unsigned short short_num = -1;      // error, can't be negative\n",
    "    \n",
    "int x = 3;                          //ok \n",
    "int big_num = 27888999999;          //error\n",
    "\n",
    "long lat = 230011111111;            //ok\n",
    "unsigned long lat = 230011111111;   //ok"
   ]
  },
  {
   "cell_type": "markdown",
   "metadata": {},
   "source": [
    "## What happens if we try to convert between types?\n",
    "\n",
    "### Depends\n",
    "\n",
    "short -> int -> long   //ok \n",
    "\n",
    "short <- int <- long   //truncate\n",
    "\n",
    "Takeaway: avoid converting from larger to smaller types."
   ]
  },
  {
   "cell_type": "markdown",
   "metadata": {},
   "source": [
    "## Floating Point Types"
   ]
  },
  {
   "cell_type": "markdown",
   "metadata": {},
   "source": [
    "| Floating Point Types    | Description  |\n",
    "| ------------- :| -----:|\n",
    "| float         | regular decimal number|\n",
    "|  double      |  atleast precision of float, but usually higher | \n",
    "| long double| atleast precision of double, but usually higher |"
   ]
  },
  {
   "cell_type": "code",
   "execution_count": null,
   "metadata": {
    "collapsed": true
   },
   "outputs": [],
   "source": [
    "//Examples\n",
    "float radix = 2.37; \n",
    "double pi = 3.1415;\n",
    "long double decval = 0.234708234987982734"
   ]
  },
  {
   "cell_type": "markdown",
   "metadata": {},
   "source": [
    "## What happens if we try to convert between types?\n",
    "\n",
    "### Depends\n",
    "\n",
    "float -> double -> long double   //ok \n",
    "\n",
    "float <- double <- long double   //truncate\n",
    "\n",
    "Takeaway: avoid converting from larger to smaller types."
   ]
  },
  {
   "cell_type": "code",
   "execution_count": null,
   "metadata": {
    "collapsed": true
   },
   "outputs": [],
   "source": [
    "Boolean Types\n",
    "True or False\n",
    "    \n",
    "x = true;"
   ]
  }
 ],
 "metadata": {
  "kernelspec": {
   "display_name": "C++",
   "language": "",
   "name": "cling"
  },
  "language_info": {
   "codemirror_mode": "text/x-c++src",
   "file_extension": ".c++",
   "mimetype": " text/x-c++src",
   "name": "c++"
  }
 },
 "nbformat": 4,
 "nbformat_minor": 0
}
