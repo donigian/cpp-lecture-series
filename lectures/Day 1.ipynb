{
 "cells": [
  {
   "cell_type": "markdown",
   "metadata": {},
   "source": [
    "## What is software\n",
    "It's an invisible group of programs that do something when they run. What we usually see is what the software does."
   ]
  },
  {
   "cell_type": "markdown",
   "metadata": {},
   "source": [
    "## Why Software\n",
    "\n",
    "How else would you answer questions like...\n",
    "\n",
    "1. Is my flighting leaving on time?\n",
    "2. How many cheeseburgers were ordered @In/Out off Foothill Blvd?\n",
    "3. How do I get to the Getty Museum? How long would it take?\n",
    "4. How much money do I have in the bank?\n",
    "5. I wonder if anyone has called me today?"
   ]
  },
  {
   "cell_type": "markdown",
   "metadata": {},
   "source": [
    "## Why C++\n",
    "Purpose of a language is to express your ideas with code. \n",
    "1. C++ is direct way of expressing yourself\n",
    "2. C++ is super performant (fast) compared to most mainstream languages today\n",
    "3. Most languages (Java, Python, Ruby etc), operating systems and open source projects are written in C++ \n",
    "4. C++ powers the internet. Most of the operating systems, router, switch software, and networking code which powers your web searches is written in C++.\n",
    "5. If you can learn C++, you can learn other languages since the knowledge is transferrable.\n",
    "6. C++ powers your computers. Most animation, graphics, chip design & semiconductor tools are written in C++. As well as most of the drivers which power your keyboard, mouse and monitor."
   ]
  },
  {
   "cell_type": "markdown",
   "metadata": {},
   "source": [
    "## C++ in the Real World\n",
    "[Real World applications/systems written in C++](http://www.stroustrup.com/applications.html)"
   ]
  },
  {
   "cell_type": "markdown",
   "metadata": {},
   "source": [
    "## Stroustrup mentions the following Myths to writing good programs\n",
    "```\n",
    "• it's really difficult \n",
    "• requires rare talent\n",
    "• done by socially inept young men in total isolation, mostly by night\n",
    "• it is about building violent video games\n",
    "• requires mastery of advanced mathematics\n",
    "• completely different from everyday ways of thinking\n",
    "• it is something that doesn’t help people\n",
    "```"
   ]
  },
  {
   "cell_type": "markdown",
   "metadata": {},
   "source": [
    "## Discussion Points\n",
    "\n",
    "1. From your own experience, describe an activity that would not have been possible without computers.\n",
    "\n",
    "2. Make a list of 10 activities that people do that do not involve computers in any way. \n",
    "\n",
    "3. Write an explanation (at most 200 words) of why you would like to be a computer programmer. If you don't like to be explain why not?"
   ]
  },
  {
   "cell_type": "code",
   "execution_count": null,
   "metadata": {
    "collapsed": true
   },
   "outputs": [],
   "source": []
  }
 ],
 "metadata": {
  "kernelspec": {
   "display_name": "C++",
   "language": "",
   "name": "cling"
  },
  "language_info": {
   "codemirror_mode": "text/x-c++src",
   "file_extension": ".c++",
   "mimetype": " text/x-c++src",
   "name": "c++"
  }
 },
 "nbformat": 4,
 "nbformat_minor": 0
}
