{
 "cells": [
  {
   "cell_type": "markdown",
   "metadata": {},
   "source": [
    "## Create a program which will send a text message to a recipient."
   ]
  },
  {
   "cell_type": "code",
   "execution_count": null,
   "metadata": {
    "collapsed": true
   },
   "outputs": [],
   "source": [
    "#include <iostream>\n",
    "#define EINVAL          22      /* Invalid argument */\n",
    "\n",
    "using namespace std;\n",
    "\n",
    "/* This program will send a text msg to a recipient\n",
    " *\n",
    " * Usage: Snapgram 6161234567 \"Hey There\"\n",
    " *\n",
    " * Developer: Armen Donigian\n",
    " *\n",
    " */\n",
    "\n",
    "int main(int argc, char * argv[]) {\n",
    "    if (argc != 3) {\n",
    "        cerr << \"Incorrect number of arguments\";\n",
    "        exit(EINVAL);\n",
    "    }\n",
    "\n",
    "    long phone_number = stol(argv[1]);\n",
    "    string text_msg = argv[2];\n",
    "    cout << \"Sending text msg to: \" << phone_number << endl;\n",
    "    cout << \"Message content: \" << text_msg << endl;\n",
    "\n",
    "    return 0;\n",
    "}"
   ]
  }
 ],
 "metadata": {
  "kernelspec": {
   "display_name": "C++",
   "language": "",
   "name": "cling"
  },
  "language_info": {
   "codemirror_mode": "text/x-c++src",
   "file_extension": ".c++",
   "mimetype": " text/x-c++src",
   "name": "c++"
  }
 },
 "nbformat": 4,
 "nbformat_minor": 0
}
