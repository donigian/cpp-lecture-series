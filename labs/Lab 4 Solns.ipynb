{
 "cells": [
  {
   "cell_type": "markdown",
   "metadata": {},
   "source": [
    "## Problem 1"
   ]
  },
  {
   "cell_type": "code",
   "execution_count": null,
   "metadata": {
    "collapsed": true
   },
   "outputs": [],
   "source": [
    "//\n",
    "// Created by Armen Donigian on 7/5/16.\n",
    "//\n",
    "#include <iostream>\n",
    "\n",
    "using namespace std;\n",
    "\n",
    "int find_min(char *numbers[], int length){\n",
    "    // set min to 1st #\n",
    "    int min = atoi(numbers[1]);\n",
    "\n",
    "    for (int i = 1; i <= length; i++){\n",
    "        if (min > atoi(numbers[i])){\n",
    "            min = atoi(numbers[i]);\n",
    "        }\n",
    "    }\n",
    "    return min;\n",
    "}\n",
    "\n",
    "int main(int argc, char *argv[]) {\n",
    "    cout << \"min is \" << find_min(argv, argc - 1);\n",
    "    return 0;\n",
    "}"
   ]
  },
  {
   "cell_type": "code",
   "execution_count": null,
   "metadata": {
    "collapsed": true
   },
   "outputs": [],
   "source": [
    "//\n",
    "// Created by Armen Donigian on 7/5/16.\n",
    "//\n",
    "#include <iostream>\n",
    "\n",
    "using namespace std;\n",
    "\n",
    "int find_max(char *numbers[], int length){\n",
    "    // set min to 1st #\n",
    "    int max = atoi(numbers[1]);\n",
    "\n",
    "    for (int i = 1; i <= length; i++){\n",
    "        if (max < atoi(numbers[i])){\n",
    "            max = atoi(numbers[i]);\n",
    "        }\n",
    "    }\n",
    "    return max;\n",
    "}\n",
    "\n",
    "int main(int argc, char *argv[]) {\n",
    "    cout << \"min is \" << find_max(argv, argc - 1);\n",
    "    return 0;\n",
    "}"
   ]
  },
  {
   "cell_type": "code",
   "execution_count": null,
   "metadata": {
    "collapsed": true
   },
   "outputs": [],
   "source": [
    "#include <iostream>\n",
    "\n",
    "using namespace std;\n",
    "\n",
    "double calc_avg(char *numbers[], int length) {\n",
    "    double sum = 0;\n",
    "    double average = 0.0;\n",
    "    for (int i = 1; i <= length; i++)\n",
    "        sum = sum + atoi(numbers[i]);\n",
    "    average = sum / length;\n",
    "    return average;\n",
    "}\n",
    "\n",
    "\n",
    "int main(int argc, char *argv[]) {\n",
    "    cout << \"average is \" << calc_avg(argv, argc - 1);\n",
    "    return 0;\n",
    "}"
   ]
  },
  {
   "cell_type": "markdown",
   "metadata": {},
   "source": [
    "## Problem 2"
   ]
  },
  {
   "cell_type": "code",
   "execution_count": null,
   "metadata": {
    "collapsed": true
   },
   "outputs": [],
   "source": [
    "//\n",
    "// Created by Armen Donigian on 7/5/16.\n",
    "//\n",
    "#include <iostream>\n",
    "#include <cmath>\n",
    "\n",
    "using namespace std;\n",
    "\n",
    "double solve_quadratic(int a, int b, int c, bool positive_root) {\n",
    "\n",
    "    double x = 0.0;\n",
    "    double descriminant = sqrt(pow(b, 2) - 4 * a * c);\n",
    "    if(descriminant > 0) {\n",
    "        if (positive_root)\n",
    "            x = (-1 * b + descriminant) / (2 * a);\n",
    "        else\n",
    "            x = (-1 * b - descriminant) / (2 * a);\n",
    "    }\n",
    "    else if (descriminant == 0){\n",
    "        x = (-1 * b + descriminant) / (2 * a);\n",
    "    }\n",
    "    else\n",
    "        cout << \"It's Complex Dude!\";\n",
    "    return x;\n",
    "}\n",
    "\n",
    "int main() {\n",
    "    int a = 0, b = 0, c = 0;\n",
    "\n",
    "    cout << \"Please input parameters for a, b and c for quadratic formula\" << endl;\n",
    "    cin >> a >> b >> c;\n",
    "    if (a == 0) {\n",
    "        cerr << \"Can't divide by zero\";\n",
    "        exit(-1);\n",
    "    }\n",
    "\n",
    "    cout << \"positive soln to quadratic formula is \" << solve_quadratic(a, b, c, true) << endl;\n",
    "    cout << \"negative soln to quadratic formula is \" << solve_quadratic(a, b, c, false) << endl;\n",
    "\n",
    "    return 0;\n",
    "}"
   ]
  },
  {
   "cell_type": "markdown",
   "metadata": {},
   "source": [
    "## Problem 3"
   ]
  },
  {
   "cell_type": "code",
   "execution_count": null,
   "metadata": {
    "collapsed": true
   },
   "outputs": [],
   "source": [
    "//\n",
    "// Created by Armen Donigian on 7/5/16.\n",
    "//\n",
    "#include <iostream>\n",
    "\n",
    "using namespace std;\n",
    "\n",
    "bool is_prime(int number){\n",
    "\n",
    "    for (int i = 2; i <= number - 1; i++){\n",
    "        if (number % i == 0)\n",
    "            return false;\n",
    "    }\n",
    "    return true;\n",
    "}\n",
    "\n",
    "int main() {\n",
    "    for (int i = 2; i <= 1000000; i++){\n",
    "        // is_prime(i) is equivalent to is_prime(i) == 1\n",
    "        // !is_prime(i) is equivalent to is_prime(i) == 0\n",
    "        if(is_prime(i))\n",
    "        cout << \"num: \" << i << endl;\n",
    "    }\n",
    "\n",
    "    return 0;\n",
    "}"
   ]
  }
 ],
 "metadata": {
  "kernelspec": {
   "display_name": "Python 2",
   "language": "python",
   "name": "python2"
  },
  "language_info": {
   "codemirror_mode": {
    "name": "ipython",
    "version": 2
   },
   "file_extension": ".py",
   "mimetype": "text/x-python",
   "name": "python",
   "nbconvert_exporter": "python",
   "pygments_lexer": "ipython2",
   "version": "2.7.11"
  }
 },
 "nbformat": 4,
 "nbformat_minor": 0
}
