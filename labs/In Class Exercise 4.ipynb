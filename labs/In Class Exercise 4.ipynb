{
 "cells": [
  {
   "cell_type": "markdown",
   "metadata": {},
   "source": [
    "1) Write a function in C++ that converts from miles to kilometers. Your program should have a reasonable prompt for the user to enter a number of miles."
   ]
  },
  {
   "cell_type": "code",
   "execution_count": null,
   "metadata": {
    "collapsed": true
   },
   "outputs": [],
   "source": [
    "#include <iostream>\n",
    "\n",
    "using namespace std;\n",
    "\n",
    "/*\n",
    " * 1) ask user for data\n",
    " * 2) convert miles to km\n",
    " * 3) output result to user\n",
    " */\n",
    "\n",
    "double prompt_user_for_miles() {\n",
    "    cout << \"how many miles did you drive today?\" << endl;\n",
    "    double miles = 0.0;\n",
    "    cin >> miles;\n",
    "    return miles;\n",
    "}\n",
    "\n",
    "double convert_miles_to_km(double miles) {\n",
    "    const double MILES_TO_KM = 1.60934;\n",
    "    double result = miles * MILES_TO_KM;\n",
    "    return result;\n",
    "}\n",
    "\n",
    "void output_km_to_user(double km, double miles);\n",
    "\n",
    "int main() {\n",
    "    double miles = prompt_user_for_miles();\n",
    "    double km = convert_miles_to_km(miles);\n",
    "    output_km_to_user(km, miles);\n",
    "    return 0;\n",
    "}\n",
    "\n",
    "\n",
    "void output_km_to_user(double km, double miles) {\n",
    "    cout << \" so you drive \" << miles << \" miles and \"\n",
    "        << km << \" kilometers\" << endl;\n",
    "}"
   ]
  },
  {
   "cell_type": "markdown",
   "metadata": {},
   "source": [
    "2) Write a program that just declares a number of variables with legal and illegal names. Experiment and observe how with error messages from the compiler."
   ]
  },
  {
   "cell_type": "code",
   "execution_count": null,
   "metadata": {
    "collapsed": true
   },
   "outputs": [],
   "source": [
    "#include <iostream>\n",
    "\n",
    "using namespace std;\n",
    "\n",
    "int main(int argc, char * argv[]) {\n",
    "    int age = 29;\n",
    "    string name = \"bobby\";\n",
    "    char cname[] = \"bobby\";\n",
    "    char cccname[6] = \"bobby\";  // size 5 is too small since it doesn't account for\n",
    "                                // null terminated value\n",
    "    double prices[3] = {1.99,.99,2.99};\n",
    "    char vowel = 'a';\n",
    "\n",
    "    int x = 5       // missing ;\n",
    "    string another_name = 32.0; // type string & double are not compatible\n",
    "    doble another_decimal = 32.0; // mispelled data type\n",
    "    bool is_cloudy = True;        // case sensitive\n",
    "    int another integer = 3;      // variable spaces can't have names in it\n",
    "    int 3fourfive = 5;            // invalid suffix on floating constant, can't\n",
    "                                  // start variable names with numbers\n",
    "    double miles == 5.0;          // syntax error\n",
    "    int some_other_miles = 5.6;   // warning not error, due to smaller data type\n",
    "    int xmen< = 20;               // variable names can't have special chars\n",
    "    ymen = 3;                     // can't resolve variable\n",
    "    int number = \"20\";            // can't cast char array to integer\n",
    "    int 3 = i;\n",
    "    \n",
    "    return 0;\n",
    "}"
   ]
  },
  {
   "cell_type": "markdown",
   "metadata": {},
   "source": [
    "3) Convert #1 to Multiple File Structure."
   ]
  },
  {
   "cell_type": "markdown",
   "metadata": {},
   "source": [
    "4) Write a program to calculate the total cost of items in a shopping cart. Assume taxes & discounts could apply."
   ]
  },
  {
   "cell_type": "code",
   "execution_count": null,
   "metadata": {
    "collapsed": true
   },
   "outputs": [],
   "source": []
  }
 ],
 "metadata": {
  "kernelspec": {
   "display_name": "Python 2",
   "language": "python",
   "name": "python2"
  },
  "language_info": {
   "codemirror_mode": {
    "name": "ipython",
    "version": 2
   },
   "file_extension": ".py",
   "mimetype": "text/x-python",
   "name": "python",
   "nbconvert_exporter": "python",
   "pygments_lexer": "ipython2",
   "version": "2.7.11"
  }
 },
 "nbformat": 4,
 "nbformat_minor": 0
}
