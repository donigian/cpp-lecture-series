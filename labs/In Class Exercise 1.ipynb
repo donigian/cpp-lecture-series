{
 "cells": [
  {
   "cell_type": "markdown",
   "metadata": {},
   "source": [
    "## 1. Write a program which prompts the user for length & width, and outputs the area of rectangle."
   ]
  },
  {
   "cell_type": "code",
   "execution_count": null,
   "metadata": {
    "collapsed": false
   },
   "outputs": [],
   "source": [
    "#include <iostream>\n",
    "#include <iomanip>\n",
    "\n",
    "using namespace std;\n",
    "\n",
    "int main(int argc, char *argv[]) {\n",
    "\n",
    "    double length = 0.0, width = 0.0;\n",
    "    cout << \"Enter length of rectangle: \" << endl;\n",
    "    cin >> length;\n",
    "    cout << \"Enter width of rectangle: \" << endl;\n",
    "    cin >> width;\n",
    "    double area = length * width;\n",
    "    cout << \"Area of rectangle is: \" << setfill('.') << setw(5)\n",
    "        << setprecision(3) << area << endl;\n",
    "}"
   ]
  },
  {
   "cell_type": "markdown",
   "metadata": {},
   "source": [
    "More info about Manipulators: http://en.cppreference.com/w/cpp/io/manip"
   ]
  },
  {
   "cell_type": "markdown",
   "metadata": {},
   "source": [
    "## 2. Write a program which outputs the number of arguments as well as each argument passed into program."
   ]
  },
  {
   "cell_type": "code",
   "execution_count": null,
   "metadata": {
    "collapsed": false
   },
   "outputs": [],
   "source": [
    "#include <iostream>\n",
    "\n",
    "int main(int argc, char *argv[]) {\n",
    "\n",
    "    std::cout << \"Total arguments: \" << argc << std::endl;\n",
    "\n",
    "    for (int i = 0; i < argc; ++i) {\n",
    "        std::cout << \"arg[\" << i << \"]= \" << argv[i] << std::endl;\n",
    "    }\n",
    "}"
   ]
  },
  {
   "cell_type": "markdown",
   "metadata": {},
   "source": [
    "## 3. FizzBuzz\n",
    "   Write a program which prompts the user for a number.\n",
    "   \n",
    "```Print the numbers from 1 to the user defined number: \n",
    "   But for multiples of three print “Fizz” instead of the number and for the multiples of five print “Buzz”. \n",
    "   For numbers which are multiples of both three and five print “FizzBuzz”.\"```"
   ]
  },
  {
   "cell_type": "code",
   "execution_count": null,
   "metadata": {
    "collapsed": true
   },
   "outputs": [],
   "source": [
    "#include <iostream>\n",
    "\n",
    "int main(int argc, char *argv[]) {\n",
    "\n",
    "    int count_until;\n",
    "    std::cout << \"Enter a number to count FizzBuzz up to: \" << std::endl;\n",
    "    std::cin >> count_until;\n",
    "    for (int num = 0; num <= count_until; num++) {\n",
    "        if (num % 5 == 0 || num % 3 == 0){\n",
    "            std::cout << \"FizzBuzz\" << std::endl;\n",
    "        }\n",
    "        else if (num % 5 == 0)\n",
    "            std::cout << \"Buzz\" << std::endl;\n",
    "        else if (num % 3 == 0)\n",
    "            std::cout << \"Fizz\" << std::endl;\n",
    "        else\n",
    "            std::cout << num << std::endl;\n",
    "    }\n",
    "}"
   ]
  }
 ],
 "metadata": {
  "kernelspec": {
   "display_name": "C++",
   "language": "",
   "name": "cling"
  },
  "language_info": {
   "codemirror_mode": "text/x-c++src",
   "file_extension": ".c++",
   "mimetype": " text/x-c++src",
   "name": "c++"
  }
 },
 "nbformat": 4,
 "nbformat_minor": 0
}
